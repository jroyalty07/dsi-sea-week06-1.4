{
 "cells": [
  {
   "cell_type": "markdown",
   "metadata": {
    "button": false,
    "deletable": true,
    "new_sheet": false,
    "run_control": {
     "read_only": false
    }
   },
   "source": [
    "# APIs Lab\n",
    "In this lab we will practice using APIs to retrieve and store data."
   ]
  },
  {
   "cell_type": "code",
   "execution_count": 132,
   "metadata": {
    "button": false,
    "collapsed": false,
    "deletable": true,
    "new_sheet": false,
    "run_control": {
     "read_only": false
    }
   },
   "outputs": [],
   "source": [
    "# Imports at the top\n",
    "import json\n",
    "import urllib\n",
    "import pandas as pd\n",
    "import numpy as np\n",
    "import requests\n",
    "import json\n",
    "import re\n",
    "import matplotlib.pyplot as plt\n",
    "%matplotlib inline"
   ]
  },
  {
   "cell_type": "markdown",
   "metadata": {
    "button": false,
    "deletable": true,
    "new_sheet": false,
    "run_control": {
     "read_only": false
    }
   },
   "source": [
    "## Exercise 1: IMDB Movies\n",
    "\n",
    "Sometimes an API doesn't provide all the information we would like to get and we need to be creative.\n",
    "Here we will use a combination of scraping and API calls to investigate the ratings and gross earnings of famous movies."
   ]
  },
  {
   "cell_type": "markdown",
   "metadata": {
    "button": false,
    "collapsed": true,
    "deletable": true,
    "new_sheet": false,
    "run_control": {
     "read_only": false
    }
   },
   "source": [
    "## 1.a Get top movies\n",
    "\n",
    "The Internet Movie Database contains data about movies. Unfortunately it does not have a public API.\n",
    "\n",
    "The page http://www.imdb.com/chart/top contains the list of the top 250 movies of all times. Retrieve the page using the requests library and then parse the html to obtain a list of the `movie_ids` for these movies. You can parse it with regular expression or using a library like `BeautifulSoup`.\n",
    "\n",
    "**Hint:** movie_ids look like this: `tt2582802`"
   ]
  },
  {
   "cell_type": "code",
   "execution_count": 133,
   "metadata": {
    "collapsed": false
   },
   "outputs": [
    {
     "name": "stdout",
     "output_type": "stream",
     "text": [
      "1\n"
     ]
    }
   ],
   "source": [
    "from bs4 import BeautifulSoup\n",
    "import urllib2\n",
    "\n",
    "page=urllib2.urlopen('http://www.imdb.com/chart/top', 'lxml')\n",
    "soup = BeautifulSoup(page.read())\n",
    "\n",
    "tables = soup.find_all('table', class_=\"chart full-width\")\n",
    "print len(tables)\n",
    "\n",
    "            "
   ]
  },
  {
   "cell_type": "code",
   "execution_count": 184,
   "metadata": {
    "collapsed": false
   },
   "outputs": [],
   "source": [
    "movie_ids = []\n",
    "\n",
    "for idx, table in enumerate(tables):\n",
    "    for idx2, row in enumerate(table.find_all('tr')):\n",
    "        if idx2 > 0:\n",
    "\n",
    "            for idx3, column, in enumerate(row.find_all(['td'])):\n",
    "                if idx3 == 0:\n",
    "                    a = column.find_all('a', href = True)\n",
    "                    movie_ids += [a[0]['href'].split('/')[2]]\n",
    "#                 if idx3 == 1:\n",
    "#                     dicty['titles'] += [column.text.split('\\n')[2]]\n",
    "#                     dicty['years'] += [column.text.split('\\n')[3][1:5]]\n",
    "#                 if idx3 == 2:\n",
    "#                     dicty['ratings'] += re.findall('\\w*.\\w*', column.text)\n"
   ]
  },
  {
   "cell_type": "code",
   "execution_count": null,
   "metadata": {
    "collapsed": false
   },
   "outputs": [],
   "source": []
  },
  {
   "cell_type": "markdown",
   "metadata": {
    "button": false,
    "deletable": true,
    "new_sheet": false,
    "run_control": {
     "read_only": false
    }
   },
   "source": [
    "## 1.b Get top movies data\n",
    "\n",
    "Although the Internet Movie Database does not have a public API, an open API exists at http://www.omdbapi.com.\n",
    "\n",
    "Use this API to retrieve information about each of the 250 movies you have extracted in the previous step.\n",
    "- Check the documentation of omdbapi.com to learn how to request movie data by id\n",
    "- Define a function that returns a python object with all the information for a given id\n",
    "- Iterate on all the IDs and store the results in a list of such objects\n",
    "- Create a Pandas Dataframe from the list"
   ]
  },
  {
   "cell_type": "code",
   "execution_count": 277,
   "metadata": {
    "collapsed": false
   },
   "outputs": [],
   "source": [
    "info = pd.DataFrame()\n",
    "for i in movie_ids:\n",
    "    soup = BeautifulSoup(urllib2.urlopen('http://www.omdbapi.com/?i='+ i), \"lxml\")\n",
    "    parsed_json = json.loads(soup.text)\n",
    "    info = pd.concat((info, (pd.DataFrame([parsed_json]))), axis = 0)\n",
    "    \n",
    "\n"
   ]
  },
  {
   "cell_type": "code",
   "execution_count": 278,
   "metadata": {
    "button": false,
    "collapsed": false,
    "deletable": true,
    "new_sheet": false,
    "run_control": {
     "read_only": false
    }
   },
   "outputs": [
    {
     "data": {
      "text/html": [
       "<div>\n",
       "<table border=\"1\" class=\"dataframe\">\n",
       "  <thead>\n",
       "    <tr style=\"text-align: right;\">\n",
       "      <th></th>\n",
       "      <th>Actors</th>\n",
       "      <th>Awards</th>\n",
       "      <th>Country</th>\n",
       "      <th>Director</th>\n",
       "      <th>Genre</th>\n",
       "      <th>Language</th>\n",
       "      <th>Metascore</th>\n",
       "      <th>Plot</th>\n",
       "      <th>Poster</th>\n",
       "      <th>Rated</th>\n",
       "      <th>Released</th>\n",
       "      <th>Runtime</th>\n",
       "      <th>Title</th>\n",
       "      <th>Writer</th>\n",
       "      <th>Year</th>\n",
       "      <th>imdbID</th>\n",
       "      <th>imdbRating</th>\n",
       "      <th>imdbVotes</th>\n",
       "    </tr>\n",
       "  </thead>\n",
       "  <tbody>\n",
       "    <tr>\n",
       "      <th>0</th>\n",
       "      <td>Tim Robbins, Morgan Freeman, Bob Gunton, Willi...</td>\n",
       "      <td>Nominated for 7 Oscars. Another 18 wins &amp; 30 n...</td>\n",
       "      <td>USA</td>\n",
       "      <td>Frank Darabont</td>\n",
       "      <td>Crime, Drama</td>\n",
       "      <td>English</td>\n",
       "      <td>80</td>\n",
       "      <td>Two imprisoned men bond over a number of years...</td>\n",
       "      <td>https://images-na.ssl-images-amazon.com/images...</td>\n",
       "      <td>R</td>\n",
       "      <td>14 Oct 1994</td>\n",
       "      <td>142 min</td>\n",
       "      <td>The Shawshank Redemption</td>\n",
       "      <td>Stephen King (short story \"Rita Hayworth and S...</td>\n",
       "      <td>1994</td>\n",
       "      <td>tt0111161</td>\n",
       "      <td>9.3</td>\n",
       "      <td>1,711,064</td>\n",
       "    </tr>\n",
       "    <tr>\n",
       "      <th>0</th>\n",
       "      <td>Marlon Brando, Al Pacino, James Caan, Richard ...</td>\n",
       "      <td>Won 3 Oscars. Another 23 wins &amp; 27 nominations.</td>\n",
       "      <td>USA</td>\n",
       "      <td>Francis Ford Coppola</td>\n",
       "      <td>Crime, Drama</td>\n",
       "      <td>English, Italian, Latin</td>\n",
       "      <td>100</td>\n",
       "      <td>The aging patriarch of an organized crime dyna...</td>\n",
       "      <td>https://images-na.ssl-images-amazon.com/images...</td>\n",
       "      <td>R</td>\n",
       "      <td>24 Mar 1972</td>\n",
       "      <td>175 min</td>\n",
       "      <td>The Godfather</td>\n",
       "      <td>Mario Puzo (screenplay), Francis Ford Coppola ...</td>\n",
       "      <td>1972</td>\n",
       "      <td>tt0068646</td>\n",
       "      <td>9.2</td>\n",
       "      <td>1,177,812</td>\n",
       "    </tr>\n",
       "    <tr>\n",
       "      <th>0</th>\n",
       "      <td>Al Pacino, Robert Duvall, Diane Keaton, Robert...</td>\n",
       "      <td>Won 6 Oscars. Another 10 wins &amp; 20 nominations.</td>\n",
       "      <td>USA</td>\n",
       "      <td>Francis Ford Coppola</td>\n",
       "      <td>Crime, Drama</td>\n",
       "      <td>English, Italian, Spanish, Latin, Sicilian</td>\n",
       "      <td>80</td>\n",
       "      <td>The early life and career of Vito Corleone in ...</td>\n",
       "      <td>https://images-na.ssl-images-amazon.com/images...</td>\n",
       "      <td>R</td>\n",
       "      <td>20 Dec 1974</td>\n",
       "      <td>202 min</td>\n",
       "      <td>The Godfather: Part II</td>\n",
       "      <td>Francis Ford Coppola (screenplay), Mario Puzo ...</td>\n",
       "      <td>1974</td>\n",
       "      <td>tt0071562</td>\n",
       "      <td>9.0</td>\n",
       "      <td>807,734</td>\n",
       "    </tr>\n",
       "    <tr>\n",
       "      <th>0</th>\n",
       "      <td>Christian Bale, Heath Ledger, Aaron Eckhart, M...</td>\n",
       "      <td>Won 2 Oscars. Another 146 wins &amp; 142 nominations.</td>\n",
       "      <td>USA, UK</td>\n",
       "      <td>Christopher Nolan</td>\n",
       "      <td>Action, Crime, Drama</td>\n",
       "      <td>English, Mandarin</td>\n",
       "      <td>82</td>\n",
       "      <td>When the menace known as the Joker wreaks havo...</td>\n",
       "      <td>https://images-na.ssl-images-amazon.com/images...</td>\n",
       "      <td>PG-13</td>\n",
       "      <td>18 Jul 2008</td>\n",
       "      <td>152 min</td>\n",
       "      <td>The Dark Knight</td>\n",
       "      <td>Jonathan Nolan (screenplay), Christopher Nolan...</td>\n",
       "      <td>2008</td>\n",
       "      <td>tt0468569</td>\n",
       "      <td>9.0</td>\n",
       "      <td>1,699,835</td>\n",
       "    </tr>\n",
       "    <tr>\n",
       "      <th>0</th>\n",
       "      <td>Martin Balsam, John Fiedler, Lee J. Cobb, E.G....</td>\n",
       "      <td>Nominated for 3 Oscars. Another 16 wins &amp; 8 no...</td>\n",
       "      <td>USA</td>\n",
       "      <td>Sidney Lumet</td>\n",
       "      <td>Crime, Drama</td>\n",
       "      <td>English</td>\n",
       "      <td>N/A</td>\n",
       "      <td>A jury holdout attempts to prevent a miscarria...</td>\n",
       "      <td>https://images-na.ssl-images-amazon.com/images...</td>\n",
       "      <td>APPROVED</td>\n",
       "      <td>01 Apr 1957</td>\n",
       "      <td>96 min</td>\n",
       "      <td>12 Angry Men</td>\n",
       "      <td>Reginald Rose (story), Reginald Rose (screenplay)</td>\n",
       "      <td>1957</td>\n",
       "      <td>tt0050083</td>\n",
       "      <td>8.9</td>\n",
       "      <td>455,987</td>\n",
       "    </tr>\n",
       "  </tbody>\n",
       "</table>\n",
       "</div>"
      ],
      "text/plain": [
       "                                              Actors  \\\n",
       "0  Tim Robbins, Morgan Freeman, Bob Gunton, Willi...   \n",
       "0  Marlon Brando, Al Pacino, James Caan, Richard ...   \n",
       "0  Al Pacino, Robert Duvall, Diane Keaton, Robert...   \n",
       "0  Christian Bale, Heath Ledger, Aaron Eckhart, M...   \n",
       "0  Martin Balsam, John Fiedler, Lee J. Cobb, E.G....   \n",
       "\n",
       "                                              Awards  Country  \\\n",
       "0  Nominated for 7 Oscars. Another 18 wins & 30 n...      USA   \n",
       "0    Won 3 Oscars. Another 23 wins & 27 nominations.      USA   \n",
       "0    Won 6 Oscars. Another 10 wins & 20 nominations.      USA   \n",
       "0  Won 2 Oscars. Another 146 wins & 142 nominations.  USA, UK   \n",
       "0  Nominated for 3 Oscars. Another 16 wins & 8 no...      USA   \n",
       "\n",
       "               Director                 Genre  \\\n",
       "0        Frank Darabont          Crime, Drama   \n",
       "0  Francis Ford Coppola          Crime, Drama   \n",
       "0  Francis Ford Coppola          Crime, Drama   \n",
       "0     Christopher Nolan  Action, Crime, Drama   \n",
       "0          Sidney Lumet          Crime, Drama   \n",
       "\n",
       "                                     Language Metascore  \\\n",
       "0                                     English        80   \n",
       "0                     English, Italian, Latin       100   \n",
       "0  English, Italian, Spanish, Latin, Sicilian        80   \n",
       "0                           English, Mandarin        82   \n",
       "0                                     English       N/A   \n",
       "\n",
       "                                                Plot  \\\n",
       "0  Two imprisoned men bond over a number of years...   \n",
       "0  The aging patriarch of an organized crime dyna...   \n",
       "0  The early life and career of Vito Corleone in ...   \n",
       "0  When the menace known as the Joker wreaks havo...   \n",
       "0  A jury holdout attempts to prevent a miscarria...   \n",
       "\n",
       "                                              Poster     Rated     Released  \\\n",
       "0  https://images-na.ssl-images-amazon.com/images...         R  14 Oct 1994   \n",
       "0  https://images-na.ssl-images-amazon.com/images...         R  24 Mar 1972   \n",
       "0  https://images-na.ssl-images-amazon.com/images...         R  20 Dec 1974   \n",
       "0  https://images-na.ssl-images-amazon.com/images...     PG-13  18 Jul 2008   \n",
       "0  https://images-na.ssl-images-amazon.com/images...  APPROVED  01 Apr 1957   \n",
       "\n",
       "   Runtime                     Title  \\\n",
       "0  142 min  The Shawshank Redemption   \n",
       "0  175 min             The Godfather   \n",
       "0  202 min    The Godfather: Part II   \n",
       "0  152 min           The Dark Knight   \n",
       "0   96 min              12 Angry Men   \n",
       "\n",
       "                                              Writer  Year     imdbID  \\\n",
       "0  Stephen King (short story \"Rita Hayworth and S...  1994  tt0111161   \n",
       "0  Mario Puzo (screenplay), Francis Ford Coppola ...  1972  tt0068646   \n",
       "0  Francis Ford Coppola (screenplay), Mario Puzo ...  1974  tt0071562   \n",
       "0  Jonathan Nolan (screenplay), Christopher Nolan...  2008  tt0468569   \n",
       "0  Reginald Rose (story), Reginald Rose (screenplay)  1957  tt0050083   \n",
       "\n",
       "  imdbRating  imdbVotes  \n",
       "0        9.3  1,711,064  \n",
       "0        9.2  1,177,812  \n",
       "0        9.0    807,734  \n",
       "0        9.0  1,699,835  \n",
       "0        8.9    455,987  "
      ]
     },
     "execution_count": 278,
     "metadata": {},
     "output_type": "execute_result"
    }
   ],
   "source": [
    "movie_data = info.drop(['Response','Type'], axis = 1)\n",
    "#info = info.drop('Response', axis = 1)\n",
    "movie_data.head()"
   ]
  },
  {
   "cell_type": "markdown",
   "metadata": {
    "button": false,
    "deletable": true,
    "new_sheet": false,
    "run_control": {
     "read_only": false
    }
   },
   "source": [
    "## 1.c Get gross data\n",
    "\n",
    "The OMDB API is great, but it does not provide information about Gross Revenue of the movie. We'll revert back to scraping for this.\n",
    "\n",
    "- Write a function that retrieves the gross revenue from the entry page at imdb.com\n",
    "- The function should handle the exception of when the page doesn't report gross revenue\n",
    "- Retrieve the gross revenue for each movie and store it in a separate dataframe"
   ]
  },
  {
   "cell_type": "code",
   "execution_count": 220,
   "metadata": {
    "button": false,
    "collapsed": false,
    "deletable": true,
    "new_sheet": false,
    "run_control": {
     "read_only": false
    }
   },
   "outputs": [],
   "source": [
    "\n",
    "gross_urls = []\n",
    "\n",
    "for idx, col in enumerate(table.find_all('tr')):\n",
    "    for idx2, row in enumerate(col.find_all('a')):\n",
    "        gross_urls += ['http://www.imdb.com' + row['href']]\n",
    "        \n",
    "#print gross_urls[0]\n",
    "\n",
    "def gross(url):\n",
    "    page=urllib2.urlopen(url, 'lxml')\n",
    "    soup = BeautifulSoup(page.read())\n",
    "    gross = 0.0\n",
    "    for idx, div in enumerate(soup.find_all('div', id='titleDetails')):\n",
    "        for idx2, div2 in enumerate(div.find_all('div', class_='txt-block')):\n",
    "            if 'Gross' in div2.text:\n",
    "                gross = float((div2.text.split('$')[1]).split(' ')[0].replace(',', ''))\n",
    "    return gross\n",
    "\n",
    "grosses = []\n",
    "for url in gross_urls:\n",
    "    grosses += [gross(url)]\n",
    "    \n"
   ]
  },
  {
   "cell_type": "code",
   "execution_count": 322,
   "metadata": {
    "collapsed": false
   },
   "outputs": [
    {
     "data": {
      "text/plain": [
       "0     28341469.0\n",
       "1     28341469.0\n",
       "2    134821952.0\n",
       "3    134821952.0\n",
       "4     57300000.0\n",
       "dtype: float64"
      ]
     },
     "execution_count": 322,
     "metadata": {},
     "output_type": "execute_result"
    }
   ],
   "source": [
    "import unicodedata\n",
    "\n",
    "grosses = pd.Series(grosses)\n",
    "grosses.head()\n"
   ]
  },
  {
   "cell_type": "markdown",
   "metadata": {
    "button": false,
    "deletable": true,
    "new_sheet": false,
    "run_control": {
     "read_only": false
    }
   },
   "source": [
    "## 1.d Data munging\n",
    "\n",
    "- Now that you have movie information and gross revenue information, let's clean the two datasets.\n",
    "- Check if there are null values. Be careful they may appear to be valid strings.\n",
    "- Convert the columns to the appropriate formats. In particular handle:\n",
    "    - Released\n",
    "    - Runtime\n",
    "    - year\n",
    "    - imdbRating\n",
    "    - imdbVotes\n",
    "- Merge the data from the two datasets into a single one"
   ]
  },
  {
   "cell_type": "code",
   "execution_count": 396,
   "metadata": {
    "button": false,
    "collapsed": false,
    "deletable": true,
    "new_sheet": false,
    "run_control": {
     "read_only": false
    }
   },
   "outputs": [
    {
     "data": {
      "text/html": [
       "<div>\n",
       "<table border=\"1\" class=\"dataframe\">\n",
       "  <thead>\n",
       "    <tr style=\"text-align: right;\">\n",
       "      <th></th>\n",
       "      <th>Actors</th>\n",
       "      <th>Awards</th>\n",
       "      <th>Country</th>\n",
       "      <th>Director</th>\n",
       "      <th>Genre</th>\n",
       "      <th>Language</th>\n",
       "      <th>Metascore</th>\n",
       "      <th>Plot</th>\n",
       "      <th>Poster</th>\n",
       "      <th>Rated</th>\n",
       "      <th>Released</th>\n",
       "      <th>Runtime</th>\n",
       "      <th>Title</th>\n",
       "      <th>Writer</th>\n",
       "      <th>Year</th>\n",
       "      <th>imdbID</th>\n",
       "      <th>imdbRating</th>\n",
       "      <th>imdbVotes</th>\n",
       "      <th>Gross</th>\n",
       "    </tr>\n",
       "  </thead>\n",
       "  <tbody>\n",
       "    <tr>\n",
       "      <th>0</th>\n",
       "      <td>Tim Robbins, Morgan Freeman, Bob Gunton, Willi...</td>\n",
       "      <td>Nominated for 7 Oscars. Another 18 wins &amp; 30 n...</td>\n",
       "      <td>USA</td>\n",
       "      <td>Frank Darabont</td>\n",
       "      <td>Crime, Drama</td>\n",
       "      <td>English</td>\n",
       "      <td>80</td>\n",
       "      <td>Two imprisoned men bond over a number of years...</td>\n",
       "      <td>https://images-na.ssl-images-amazon.com/images...</td>\n",
       "      <td>R</td>\n",
       "      <td>1994-10-14</td>\n",
       "      <td>142.0</td>\n",
       "      <td>The Shawshank Redemption</td>\n",
       "      <td>Stephen King (short story \"Rita Hayworth and S...</td>\n",
       "      <td>1994</td>\n",
       "      <td>tt0111161</td>\n",
       "      <td>9.3</td>\n",
       "      <td>1711064.0</td>\n",
       "      <td>28341469.0</td>\n",
       "    </tr>\n",
       "    <tr>\n",
       "      <th>1</th>\n",
       "      <td>Marlon Brando, Al Pacino, James Caan, Richard ...</td>\n",
       "      <td>Won 3 Oscars. Another 23 wins &amp; 27 nominations.</td>\n",
       "      <td>USA</td>\n",
       "      <td>Francis Ford Coppola</td>\n",
       "      <td>Crime, Drama</td>\n",
       "      <td>English, Italian, Latin</td>\n",
       "      <td>100</td>\n",
       "      <td>The aging patriarch of an organized crime dyna...</td>\n",
       "      <td>https://images-na.ssl-images-amazon.com/images...</td>\n",
       "      <td>R</td>\n",
       "      <td>1972-03-24</td>\n",
       "      <td>175.0</td>\n",
       "      <td>The Godfather</td>\n",
       "      <td>Mario Puzo (screenplay), Francis Ford Coppola ...</td>\n",
       "      <td>1972</td>\n",
       "      <td>tt0068646</td>\n",
       "      <td>9.2</td>\n",
       "      <td>1177812.0</td>\n",
       "      <td>28341469.0</td>\n",
       "    </tr>\n",
       "    <tr>\n",
       "      <th>2</th>\n",
       "      <td>Al Pacino, Robert Duvall, Diane Keaton, Robert...</td>\n",
       "      <td>Won 6 Oscars. Another 10 wins &amp; 20 nominations.</td>\n",
       "      <td>USA</td>\n",
       "      <td>Francis Ford Coppola</td>\n",
       "      <td>Crime, Drama</td>\n",
       "      <td>English, Italian, Spanish, Latin, Sicilian</td>\n",
       "      <td>80</td>\n",
       "      <td>The early life and career of Vito Corleone in ...</td>\n",
       "      <td>https://images-na.ssl-images-amazon.com/images...</td>\n",
       "      <td>R</td>\n",
       "      <td>1974-12-20</td>\n",
       "      <td>202.0</td>\n",
       "      <td>The Godfather: Part II</td>\n",
       "      <td>Francis Ford Coppola (screenplay), Mario Puzo ...</td>\n",
       "      <td>1974</td>\n",
       "      <td>tt0071562</td>\n",
       "      <td>9.0</td>\n",
       "      <td>807734.0</td>\n",
       "      <td>28341469.0</td>\n",
       "    </tr>\n",
       "    <tr>\n",
       "      <th>3</th>\n",
       "      <td>Christian Bale, Heath Ledger, Aaron Eckhart, M...</td>\n",
       "      <td>Won 2 Oscars. Another 146 wins &amp; 142 nominations.</td>\n",
       "      <td>USA, UK</td>\n",
       "      <td>Christopher Nolan</td>\n",
       "      <td>Action, Crime, Drama</td>\n",
       "      <td>English, Mandarin</td>\n",
       "      <td>82</td>\n",
       "      <td>When the menace known as the Joker wreaks havo...</td>\n",
       "      <td>https://images-na.ssl-images-amazon.com/images...</td>\n",
       "      <td>PG-13</td>\n",
       "      <td>2008-07-18</td>\n",
       "      <td>152.0</td>\n",
       "      <td>The Dark Knight</td>\n",
       "      <td>Jonathan Nolan (screenplay), Christopher Nolan...</td>\n",
       "      <td>2008</td>\n",
       "      <td>tt0468569</td>\n",
       "      <td>9.0</td>\n",
       "      <td>1699835.0</td>\n",
       "      <td>28341469.0</td>\n",
       "    </tr>\n",
       "    <tr>\n",
       "      <th>4</th>\n",
       "      <td>Martin Balsam, John Fiedler, Lee J. Cobb, E.G....</td>\n",
       "      <td>Nominated for 3 Oscars. Another 16 wins &amp; 8 no...</td>\n",
       "      <td>USA</td>\n",
       "      <td>Sidney Lumet</td>\n",
       "      <td>Crime, Drama</td>\n",
       "      <td>English</td>\n",
       "      <td>N/A</td>\n",
       "      <td>A jury holdout attempts to prevent a miscarria...</td>\n",
       "      <td>https://images-na.ssl-images-amazon.com/images...</td>\n",
       "      <td>APPROVED</td>\n",
       "      <td>1957-04-01</td>\n",
       "      <td>96.0</td>\n",
       "      <td>12 Angry Men</td>\n",
       "      <td>Reginald Rose (story), Reginald Rose (screenplay)</td>\n",
       "      <td>1957</td>\n",
       "      <td>tt0050083</td>\n",
       "      <td>8.9</td>\n",
       "      <td>455987.0</td>\n",
       "      <td>28341469.0</td>\n",
       "    </tr>\n",
       "  </tbody>\n",
       "</table>\n",
       "</div>"
      ],
      "text/plain": [
       "                                              Actors  \\\n",
       "0  Tim Robbins, Morgan Freeman, Bob Gunton, Willi...   \n",
       "1  Marlon Brando, Al Pacino, James Caan, Richard ...   \n",
       "2  Al Pacino, Robert Duvall, Diane Keaton, Robert...   \n",
       "3  Christian Bale, Heath Ledger, Aaron Eckhart, M...   \n",
       "4  Martin Balsam, John Fiedler, Lee J. Cobb, E.G....   \n",
       "\n",
       "                                              Awards  Country  \\\n",
       "0  Nominated for 7 Oscars. Another 18 wins & 30 n...      USA   \n",
       "1    Won 3 Oscars. Another 23 wins & 27 nominations.      USA   \n",
       "2    Won 6 Oscars. Another 10 wins & 20 nominations.      USA   \n",
       "3  Won 2 Oscars. Another 146 wins & 142 nominations.  USA, UK   \n",
       "4  Nominated for 3 Oscars. Another 16 wins & 8 no...      USA   \n",
       "\n",
       "               Director                 Genre  \\\n",
       "0        Frank Darabont          Crime, Drama   \n",
       "1  Francis Ford Coppola          Crime, Drama   \n",
       "2  Francis Ford Coppola          Crime, Drama   \n",
       "3     Christopher Nolan  Action, Crime, Drama   \n",
       "4          Sidney Lumet          Crime, Drama   \n",
       "\n",
       "                                     Language Metascore  \\\n",
       "0                                     English        80   \n",
       "1                     English, Italian, Latin       100   \n",
       "2  English, Italian, Spanish, Latin, Sicilian        80   \n",
       "3                           English, Mandarin        82   \n",
       "4                                     English       N/A   \n",
       "\n",
       "                                                Plot  \\\n",
       "0  Two imprisoned men bond over a number of years...   \n",
       "1  The aging patriarch of an organized crime dyna...   \n",
       "2  The early life and career of Vito Corleone in ...   \n",
       "3  When the menace known as the Joker wreaks havo...   \n",
       "4  A jury holdout attempts to prevent a miscarria...   \n",
       "\n",
       "                                              Poster     Rated   Released  \\\n",
       "0  https://images-na.ssl-images-amazon.com/images...         R 1994-10-14   \n",
       "1  https://images-na.ssl-images-amazon.com/images...         R 1972-03-24   \n",
       "2  https://images-na.ssl-images-amazon.com/images...         R 1974-12-20   \n",
       "3  https://images-na.ssl-images-amazon.com/images...     PG-13 2008-07-18   \n",
       "4  https://images-na.ssl-images-amazon.com/images...  APPROVED 1957-04-01   \n",
       "\n",
       "   Runtime                     Title  \\\n",
       "0    142.0  The Shawshank Redemption   \n",
       "1    175.0             The Godfather   \n",
       "2    202.0    The Godfather: Part II   \n",
       "3    152.0           The Dark Knight   \n",
       "4     96.0              12 Angry Men   \n",
       "\n",
       "                                              Writer  Year     imdbID  \\\n",
       "0  Stephen King (short story \"Rita Hayworth and S...  1994  tt0111161   \n",
       "1  Mario Puzo (screenplay), Francis Ford Coppola ...  1972  tt0068646   \n",
       "2  Francis Ford Coppola (screenplay), Mario Puzo ...  1974  tt0071562   \n",
       "3  Jonathan Nolan (screenplay), Christopher Nolan...  2008  tt0468569   \n",
       "4  Reginald Rose (story), Reginald Rose (screenplay)  1957  tt0050083   \n",
       "\n",
       "   imdbRating  imdbVotes       Gross  \n",
       "0         9.3  1711064.0  28341469.0  \n",
       "1         9.2  1177812.0  28341469.0  \n",
       "2         9.0   807734.0  28341469.0  \n",
       "3         9.0  1699835.0  28341469.0  \n",
       "4         8.9   455987.0  28341469.0  "
      ]
     },
     "execution_count": 396,
     "metadata": {},
     "output_type": "execute_result"
    }
   ],
   "source": [
    "#len(info['Actors'].value_counts())\n",
    "temp = []\n",
    "# Runtime strip 'min' and make float\n",
    "# for x in movie_data['Runtime']:\n",
    "#     temp.append(float(x.split(' ')[0]))\n",
    "#movie_data['Runtime'] = temp\n",
    "\n",
    "# To find and drop the one \"n/a\" value\n",
    "#movie_data[movie_data['Released'] == 'N/A']['imdbID']\n",
    "movie_data = movie_data[movie_data['imdbID'] != 'tt0015864']\n",
    "\n",
    "\n",
    "for x in movie_data['Released']:\n",
    "    temp.append(pd.to_datetime(x))\n",
    "movie_data['Released'] = temp\n",
    "\n",
    "movie_data['Year'] = pd.to_numeric(movie_data['Year'])\n",
    "movie_data['imdbRating'] = pd.to_numeric(movie_data['imdbRating'])\n",
    "# temp = []\n",
    "# for x in movie_data['imdbVotes']:\n",
    "#     temp.append(float(x.replace(',','')))\n",
    "    \n",
    "#movie_data['imdbVotes'] = temp\n",
    "#movie_data['imdbVotes'] = pd.to_numeric(movie_data['imdbVotes'])\n",
    "movie_data['Gross'] = grosses\n",
    "movie_data.index = range(249)\n",
    "movie_data.head()"
   ]
  },
  {
   "cell_type": "markdown",
   "metadata": {
    "button": false,
    "deletable": true,
    "new_sheet": false,
    "run_control": {
     "read_only": false
    }
   },
   "source": [
    "## 1.e Text vectorization\n",
    "\n",
    "There are several columns in the data that contain a comma separated list of items, for example the Genre column and the Actors column. Let's transform those to binary columns using the count vectorizer from scikit learn.\n",
    "\n",
    "Append these columns to the merged dataframe.\n",
    "\n",
    "**Hint:** In order to get the actors name right, you'll have to modify the `token_pattern` in the `CountVectorizer`."
   ]
  },
  {
   "cell_type": "code",
   "execution_count": 419,
   "metadata": {
    "button": false,
    "collapsed": false,
    "deletable": true,
    "new_sheet": false,
    "run_control": {
     "read_only": false
    }
   },
   "outputs": [
    {
     "data": {
      "text/html": [
       "<div>\n",
       "<table border=\"1\" class=\"dataframe\">\n",
       "  <thead>\n",
       "    <tr style=\"text-align: right;\">\n",
       "      <th></th>\n",
       "      <th>Actors</th>\n",
       "      <th>Awards</th>\n",
       "      <th>Country</th>\n",
       "      <th>Director</th>\n",
       "      <th>Genre</th>\n",
       "      <th>Language</th>\n",
       "      <th>Metascore</th>\n",
       "      <th>Plot</th>\n",
       "      <th>Poster</th>\n",
       "      <th>Rated</th>\n",
       "      <th>...</th>\n",
       "      <th>yacef saadi</th>\n",
       "      <th>yesim salkim</th>\n",
       "      <th>yoshiko shinohara</th>\n",
       "      <th>yukiko shimazaki</th>\n",
       "      <th>yves montand</th>\n",
       "      <th>yôko tsukasa</th>\n",
       "      <th>zach grenier</th>\n",
       "      <th>zoe saldana</th>\n",
       "      <th>álvaro guerrero</th>\n",
       "      <th>çetin tekindor</th>\n",
       "    </tr>\n",
       "  </thead>\n",
       "  <tbody>\n",
       "    <tr>\n",
       "      <th>0</th>\n",
       "      <td>Tim Robbins, Morgan Freeman, Bob Gunton, Willi...</td>\n",
       "      <td>Nominated for 7 Oscars. Another 18 wins &amp; 30 n...</td>\n",
       "      <td>USA</td>\n",
       "      <td>Frank Darabont</td>\n",
       "      <td>Crime, Drama</td>\n",
       "      <td>English</td>\n",
       "      <td>80</td>\n",
       "      <td>Two imprisoned men bond over a number of years...</td>\n",
       "      <td>https://images-na.ssl-images-amazon.com/images...</td>\n",
       "      <td>R</td>\n",
       "      <td>...</td>\n",
       "      <td>0</td>\n",
       "      <td>0</td>\n",
       "      <td>0</td>\n",
       "      <td>0</td>\n",
       "      <td>0</td>\n",
       "      <td>0</td>\n",
       "      <td>0</td>\n",
       "      <td>0</td>\n",
       "      <td>0</td>\n",
       "      <td>0</td>\n",
       "    </tr>\n",
       "  </tbody>\n",
       "</table>\n",
       "<p>1 rows × 836 columns</p>\n",
       "</div>"
      ],
      "text/plain": [
       "                                              Actors  \\\n",
       "0  Tim Robbins, Morgan Freeman, Bob Gunton, Willi...   \n",
       "\n",
       "                                              Awards Country        Director  \\\n",
       "0  Nominated for 7 Oscars. Another 18 wins & 30 n...     USA  Frank Darabont   \n",
       "\n",
       "          Genre Language Metascore  \\\n",
       "0  Crime, Drama  English        80   \n",
       "\n",
       "                                                Plot  \\\n",
       "0  Two imprisoned men bond over a number of years...   \n",
       "\n",
       "                                              Poster Rated       ...        \\\n",
       "0  https://images-na.ssl-images-amazon.com/images...     R       ...         \n",
       "\n",
       "  yacef saadi  yesim salkim yoshiko shinohara yukiko shimazaki  yves montand  \\\n",
       "0           0             0                 0                0             0   \n",
       "\n",
       "  yôko tsukasa  zach grenier  zoe saldana  álvaro guerrero  çetin tekindor  \n",
       "0            0             0            0                0               0  \n",
       "\n",
       "[1 rows x 836 columns]"
      ]
     },
     "execution_count": 419,
     "metadata": {},
     "output_type": "execute_result"
    }
   ],
   "source": [
    "from sklearn.feature_extraction.text import CountVectorizer\n",
    "\n",
    "vectorizer = CountVectorizer(max_features = 1000,\n",
    "                             tokenizer=lambda x:x.split(', '),\n",
    "                             stop_words='english',\n",
    "                             binary=True)\n",
    "\n",
    "vectorizer.fit(movie_data['Actors'])\n",
    "z = vectorizer.transform(movie_data['Actors']).todense()\n",
    "text = pd.DataFrame(z, columns = vectorizer.get_feature_names())\n",
    "\n",
    "merged = movie_data.merge(text, how = 'inner', left_index = True, right_index = True)\n",
    "merged.head(1)"
   ]
  },
  {
   "cell_type": "code",
   "execution_count": 453,
   "metadata": {
    "collapsed": false
   },
   "outputs": [
    {
     "ename": "TypeError",
     "evalue": "string indices must be integers",
     "output_type": "error",
     "traceback": [
      "\u001b[0;31m---------------------------------------------------------------------------\u001b[0m",
      "\u001b[0;31mTypeError\u001b[0m                                 Traceback (most recent call last)",
      "\u001b[0;32m<ipython-input-453-e0f06bb39b4b>\u001b[0m in \u001b[0;36m<module>\u001b[0;34m()\u001b[0m\n\u001b[1;32m     11\u001b[0m \u001b[0mmerged\u001b[0m\u001b[0;34m.\u001b[0m\u001b[0mhead\u001b[0m\u001b[0;34m(\u001b[0m\u001b[0;36m1\u001b[0m\u001b[0;34m)\u001b[0m\u001b[0;34m\u001b[0m\u001b[0m\n\u001b[1;32m     12\u001b[0m \u001b[0;32mfor\u001b[0m \u001b[0mx\u001b[0m \u001b[0;32min\u001b[0m \u001b[0mmerged\u001b[0m\u001b[0;34m:\u001b[0m\u001b[0;34m\u001b[0m\u001b[0m\n\u001b[0;32m---> 13\u001b[0;31m     \u001b[0;32mprint\u001b[0m \u001b[0mx\u001b[0m\u001b[0;34m[\u001b[0m\u001b[0;34m'Title'\u001b[0m\u001b[0;34m]\u001b[0m\u001b[0;34m\u001b[0m\u001b[0m\n\u001b[0m",
      "\u001b[0;31mTypeError\u001b[0m: string indices must be integers"
     ]
    }
   ],
   "source": [
    "vectorizer = CountVectorizer(max_features = 1000,\n",
    "                             tokenizer=lambda x:x.split(', '),\n",
    "                             stop_words='english',\n",
    "                             binary=True)\n",
    "\n",
    "vectorizer.fit(movie_data['Genre'])\n",
    "blah = vectorizer.transform(movie_data['Actors']).todense()\n",
    "genre_text = pd.DataFrame(blah, columns = vectorizer.get_feature_names())\n",
    "\n",
    "merged = merged.merge(genre_text, how = 'inner', left_index = True, right_index = True)\n",
    "merged.head(1)\n"
   ]
  },
  {
   "cell_type": "code",
   "execution_count": 451,
   "metadata": {
    "collapsed": false
   },
   "outputs": [],
   "source": [
    "merged.to_csv('imdb.csv', sep='\\t', encoding='utf-8')\n"
   ]
  },
  {
   "cell_type": "code",
   "execution_count": 493,
   "metadata": {
    "collapsed": false
   },
   "outputs": [],
   "source": [
    "\n"
   ]
  },
  {
   "cell_type": "markdown",
   "metadata": {
    "button": false,
    "deletable": true,
    "new_sheet": false,
    "run_control": {
     "read_only": false
    }
   },
   "source": [
    "## Exercise 2: Showing Our Data\n",
    "\n",
    "We did all that hard work. Let's show it to the world! First save your .csv file.\n",
    "\n",
    "```\n",
    "df.to_csv('imdb.csv', sep='\\t', encoding='utf-8')\n",
    "```"
   ]
  },
  {
   "cell_type": "markdown",
   "metadata": {
    "button": false,
    "collapsed": false,
    "deletable": true,
    "new_sheet": false,
    "run_control": {
     "read_only": false
    }
   },
   "source": [
    "## 2.a Add model\n",
    "\n",
    "Add a new model to the models.py file in your website folder. It should contain each movie's meta data such as rank, summary, genre, and rating. Here is an example of a movies model.\n",
    "\n",
    "```\n",
    "class TopMovies(models.Model):\n",
    "    name = models.CharField(max_length=200)\n",
    "    rank = models.IntegerField(default=-1)\n",
    "    created = models.DateTimeField(auto_now_add=True, blank=True)\n",
    "```"
   ]
  },
  {
   "cell_type": "markdown",
   "metadata": {
    "run_control": {}
   },
   "source": [
    "## 2.b Add Url\n",
    "Add the following path to your url.py file.\n",
    "\n",
    "```\n",
    "url(r'^imdb/top/$', views.imdb, name='imdb')\n",
    "```"
   ]
  },
  {
   "cell_type": "markdown",
   "metadata": {
    "run_control": {}
   },
   "source": [
    "## 2.c Create View\n",
    "\n",
    "Create your view. Remember you need to name it imdb! Your view should contain the following logic:\n",
    "\n",
    "- If your imdb database has no values in it\n",
    "    - Open up your imdb.csv file and populate the model\n",
    "- Retrieve model and show the data on your webpage"
   ]
  },
  {
   "cell_type": "markdown",
   "metadata": {
    "run_control": {}
   },
   "source": [
    "## 2.d Create Template\n",
    "\n",
    "Link a new template to your view. Your template must do the following things:\n",
    "\n",
    "- Use a table, rows, and columns to organize your data\n",
    "- Have a different background color besides white\n",
    "- Show your image poster links as images"
   ]
  },
  {
   "cell_type": "markdown",
   "metadata": {
    "run_control": {}
   },
   "source": [
    "## 2.e Submit Url\n",
    "\n",
    "Paste your new url below"
   ]
  },
  {
   "cell_type": "code",
   "execution_count": null,
   "metadata": {
    "collapsed": true,
    "run_control": {}
   },
   "outputs": [],
   "source": [
    "#https://salty-reaches-92407.herokuapp.com/site/imdb/top/"
   ]
  }
 ],
 "metadata": {
  "anaconda-cloud": {},
  "kernelspec": {
   "display_name": "Python [default]",
   "language": "python",
   "name": "python2"
  },
  "language_info": {
   "codemirror_mode": {
    "name": "ipython",
    "version": 2
   },
   "file_extension": ".py",
   "mimetype": "text/x-python",
   "name": "python",
   "nbconvert_exporter": "python",
   "pygments_lexer": "ipython2",
   "version": "2.7.12"
  }
 },
 "nbformat": 4,
 "nbformat_minor": 0
}
